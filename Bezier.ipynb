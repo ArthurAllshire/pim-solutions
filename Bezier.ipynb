{
 "cells": [
  {
   "cell_type": "markdown",
   "metadata": {},
   "source": [
    "# Bezier Curves"
   ]
  },
  {
   "cell_type": "code",
   "execution_count": 33,
   "metadata": {},
   "outputs": [
    {
     "data": {
      "application/vnd.jupyter.widget-view+json": {
       "model_id": "01df623071c249b4affb5193a93cce8f",
       "version_major": 2,
       "version_minor": 0
      },
      "text/plain": [
       "interactive(children=(FloatSlider(value=0.0, description='P0_x', max=5.0, min=-5.0), FloatSlider(value=0.0, de…"
      ]
     },
     "metadata": {},
     "output_type": "display_data"
    }
   ],
   "source": [
    "%matplotlib inline\n",
    "from ipywidgets import interact\n",
    "import matplotlib.pyplot as plt\n",
    "import numpy as np\n",
    "\n",
    "def quadratic_bezier(t, p0, p1, p2):\n",
    "    B_t= (1-t)*((1-t)*p0 + t*p1) + t*((1-t)*p1 + t*p2)\n",
    "    return B_t\n",
    "    \n",
    "\n",
    "P0_ = (-5.0, 5.0, 0.1)\n",
    "@interact(P0_x=P0_, P0_y=P0_, P1_x=P0_, P1_y=P0_, P2_x=P0_, P2_y=P0_)\n",
    "def quadratic_bezier_plt(P0_x, P0_y, P1_x, P1_y, P2_x, P2_y):\n",
    "    plt.figure()\n",
    "    plt.title(\"Quadratic Bezier\")\n",
    "    plt.xlabel(\"$x$-Axis\")\n",
    "    plt.ylabel(\"$y$-Axis\")\n",
    "    x = []\n",
    "    y = []\n",
    "    T = np.linspace(0, 1, 100)\n",
    "    for t in T:\n",
    "        x.append(quadratic_bezier(t, P0_x, P1_x, P2_x))\n",
    "        y.append(quadratic_bezier(t, P0_y, P1_y, P2_y))\n",
    "    bezier, = plt.plot(x, y, 'C3', label=\"Bezier Curve\")\n",
    "    control = plt.scatter([P0_x, P1_x, P2_x], [P0_y, P1_y, P2_y], label=\"Control Points\")\n",
    "    plt.legend(handles=[bezier, control])"
   ]
  },
  {
   "cell_type": "code",
   "execution_count": null,
   "metadata": {},
   "outputs": [],
   "source": []
  }
 ],
 "metadata": {
  "kernelspec": {
   "display_name": "Python 3",
   "language": "python",
   "name": "python3"
  },
  "language_info": {
   "codemirror_mode": {
    "name": "ipython",
    "version": 3
   },
   "file_extension": ".py",
   "mimetype": "text/x-python",
   "name": "python",
   "nbconvert_exporter": "python",
   "pygments_lexer": "ipython3",
   "version": "3.7.1"
  }
 },
 "nbformat": 4,
 "nbformat_minor": 2
}
